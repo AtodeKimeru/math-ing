{
 "cells": [
  {
   "cell_type": "code",
   "execution_count": 2,
   "id": "0c7366c9-597f-4585-ad7a-63476f12d936",
   "metadata": {
    "tags": []
   },
   "outputs": [
    {
     "name": "stdout",
     "output_type": "stream",
     "text": [
      "sagemaker.config INFO - Not applying SDK defaults from location: /etc/xdg/sagemaker/config.yaml\n",
      "sagemaker.config INFO - Not applying SDK defaults from location: /home/ec2-user/.config/sagemaker/config.yaml\n"
     ]
    }
   ],
   "source": [
    "import boto3\n",
    "import sagemaker\n",
    "import pandas as pd"
   ]
  },
  {
   "cell_type": "code",
   "execution_count": 3,
   "id": "5f5da656-5d4f-48fa-a24c-32ffa5943770",
   "metadata": {
    "tags": []
   },
   "outputs": [],
   "source": [
    "# Create an S3 client:\n",
    "\n",
    "s3 = boto3.client('s3')"
   ]
  },
  {
   "cell_type": "code",
   "execution_count": 4,
   "id": "62bfdf5c-7562-4252-a4cf-c81d604d04f8",
   "metadata": {
    "tags": []
   },
   "outputs": [
    {
     "name": "stdout",
     "output_type": "stream",
     "text": [
      "{'ResponseMetadata': {'RequestId': 'K3GEM1A4RSHNFSFT', 'HostId': 'Vl7gNJ1rUnTF6GRq6pjDqt2qLEvVHj8Q5V4UpvD4UMVd/PBdPgplyPhDzSQBroLsqLEwUUZTl+I=', 'HTTPStatusCode': 200, 'HTTPHeaders': {'x-amz-id-2': 'Vl7gNJ1rUnTF6GRq6pjDqt2qLEvVHj8Q5V4UpvD4UMVd/PBdPgplyPhDzSQBroLsqLEwUUZTl+I=', 'x-amz-request-id': 'K3GEM1A4RSHNFSFT', 'date': 'Mon, 11 Nov 2024 18:15:11 GMT', 'x-amz-bucket-region': 'us-west-2', 'content-type': 'application/xml', 'transfer-encoding': 'chunked', 'server': 'AmazonS3'}, 'RetryAttempts': 0}, 'IsTruncated': False, 'Contents': [{'Key': 'Datathon_geojson/anden.csv', 'LastModified': datetime.datetime(2024, 11, 10, 21, 29, 9, tzinfo=tzlocal()), 'ETag': '\"b69c3c38f219c2c65b5da89e4076cde3\"', 'Size': 5207057, 'StorageClass': 'STANDARD'}, {'Key': 'Datathon_geojson/atractivos_turisticos.csv', 'LastModified': datetime.datetime(2024, 11, 10, 21, 29, 10, tzinfo=tzlocal()), 'ETag': '\"cdbc00af7c398c8932f9c5f86484a1ef\"', 'Size': 21734, 'StorageClass': 'STANDARD'}, {'Key': 'Datathon_geojson/comunas_y_corregimientos.csv', 'LastModified': datetime.datetime(2024, 11, 10, 21, 28, 54, tzinfo=tzlocal()), 'ETag': '\"aac893a01be7361fe5792ce8215ea044\"', 'Size': 3287, 'StorageClass': 'STANDARD'}, {'Key': 'Datathon_geojson/red_ciclista.csv', 'LastModified': datetime.datetime(2024, 11, 10, 21, 29, 28, tzinfo=tzlocal()), 'ETag': '\"179b0452a8692c87f9add72645107faf\"', 'Size': 91895, 'StorageClass': 'STANDARD'}], 'Name': 'mathing-map', 'Prefix': '', 'MaxKeys': 1000, 'EncodingType': 'url', 'KeyCount': 4}\n",
      "¿--_¿--_¿--_¿--_¿--_¿--_¿--_¿--_¿--_¿--_¿--_¿--_¿--_¿--_¿--_¿--_¿--_¿--_¿--_¿--_¿--_¿--_¿--_¿--_¿--_¿--_¿--_¿--_¿--_¿--_\n",
      "[{'Key': 'Datathon_geojson/anden.csv', 'LastModified': datetime.datetime(2024, 11, 10, 21, 29, 9, tzinfo=tzlocal()), 'ETag': '\"b69c3c38f219c2c65b5da89e4076cde3\"', 'Size': 5207057, 'StorageClass': 'STANDARD'}, {'Key': 'Datathon_geojson/atractivos_turisticos.csv', 'LastModified': datetime.datetime(2024, 11, 10, 21, 29, 10, tzinfo=tzlocal()), 'ETag': '\"cdbc00af7c398c8932f9c5f86484a1ef\"', 'Size': 21734, 'StorageClass': 'STANDARD'}, {'Key': 'Datathon_geojson/comunas_y_corregimientos.csv', 'LastModified': datetime.datetime(2024, 11, 10, 21, 28, 54, tzinfo=tzlocal()), 'ETag': '\"aac893a01be7361fe5792ce8215ea044\"', 'Size': 3287, 'StorageClass': 'STANDARD'}, {'Key': 'Datathon_geojson/red_ciclista.csv', 'LastModified': datetime.datetime(2024, 11, 10, 21, 29, 28, tzinfo=tzlocal()), 'ETag': '\"179b0452a8692c87f9add72645107faf\"', 'Size': 91895, 'StorageClass': 'STANDARD'}]\n"
     ]
    }
   ],
   "source": [
    "# List the contents of your bucket:\n",
    "\n",
    "bucket_name = 'mathing-map'\n",
    "response = s3.list_objects_v2(Bucket=bucket_name)\n",
    "print(response)\n",
    "print('¿--_'*30)\n",
    "print(response['Contents'])\n"
   ]
  },
  {
   "cell_type": "code",
   "execution_count": 5,
   "id": "cd647105-228f-4fcc-9f82-fccec884a01f",
   "metadata": {
    "tags": []
   },
   "outputs": [],
   "source": [
    "file_keys = [obj['Key'] for obj in response['Contents']]"
   ]
  },
  {
   "cell_type": "code",
   "execution_count": 8,
   "id": "71a4d4c3-dea7-415b-ae02-869ca32e0680",
   "metadata": {
    "tags": []
   },
   "outputs": [],
   "source": [
    "def get_df_from_s3(bucket, key):\n",
    "    obj = s3.get_object(Bucket=bucket, Key=key)\n",
    "    return pd.read_csv(obj['Body'])"
   ]
  },
  {
   "cell_type": "code",
   "execution_count": 9,
   "id": "5ed35524-9065-4048-9472-ef56ca2a8759",
   "metadata": {
    "tags": []
   },
   "outputs": [
    {
     "name": "stdout",
     "output_type": "stream",
     "text": [
      "Error al cargar Datathon_geojson/anden.csv: An error occurred (AccessDenied) when calling the GetObject operation: User: arn:aws:sts::513160335375:assumed-role/datathon/SageMaker is not authorized to perform: s3:GetObject on resource: \"arn:aws:s3:::mathing-map/Datathon_geojson/anden.csv\" because no identity-based policy allows the s3:GetObject action\n",
      "Error al cargar Datathon_geojson/atractivos_turisticos.csv: An error occurred (AccessDenied) when calling the GetObject operation: User: arn:aws:sts::513160335375:assumed-role/datathon/SageMaker is not authorized to perform: s3:GetObject on resource: \"arn:aws:s3:::mathing-map/Datathon_geojson/atractivos_turisticos.csv\" because no identity-based policy allows the s3:GetObject action\n",
      "Error al cargar Datathon_geojson/comunas_y_corregimientos.csv: An error occurred (AccessDenied) when calling the GetObject operation: User: arn:aws:sts::513160335375:assumed-role/datathon/SageMaker is not authorized to perform: s3:GetObject on resource: \"arn:aws:s3:::mathing-map/Datathon_geojson/comunas_y_corregimientos.csv\" because no identity-based policy allows the s3:GetObject action\n",
      "Error al cargar Datathon_geojson/red_ciclista.csv: An error occurred (AccessDenied) when calling the GetObject operation: User: arn:aws:sts::513160335375:assumed-role/datathon/SageMaker is not authorized to perform: s3:GetObject on resource: \"arn:aws:s3:::mathing-map/Datathon_geojson/red_ciclista.csv\" because no identity-based policy allows the s3:GetObject action\n"
     ]
    }
   ],
   "source": [
    "# obtener tus DataFrames:\n",
    "\n",
    "dataframes = []\n",
    "for file_key in file_keys:\n",
    "    try:\n",
    "        df = get_df_from_s3(bucket_name, file_key)\n",
    "        dataframes.append(df)\n",
    "        print(f\"Archivo {file_key} cargado exitosamente.\")\n",
    "    except Exception as e:\n",
    "        print(f\"Error al cargar {file_key}: {str(e)}\")\n"
   ]
  },
  {
   "cell_type": "code",
   "execution_count": null,
   "id": "ce697594-4b80-45fe-83f4-718965b3d161",
   "metadata": {},
   "outputs": [],
   "source": []
  },
  {
   "cell_type": "code",
   "execution_count": null,
   "id": "eb52eb80-fcef-4b0a-b8ac-69e7b7a7f737",
   "metadata": {
    "tags": []
   },
   "outputs": [],
   "source": [
    "# Download a specific file:\n",
    "\n",
    "file_key = 'Datathon_geojson/atractivos_turisticos.csv'\n",
    "s3.download_file(bucket_name, file_key, 'local_file.csv')"
   ]
  },
  {
   "cell_type": "code",
   "execution_count": null,
   "id": "448c34f8-6789-4394-aec2-dca5732fb686",
   "metadata": {},
   "outputs": [],
   "source": [
    "# Read the file directly into a pandas DataFrame (if it's a CSV):\n",
    "\n",
    "obj = s3.get_object(Bucket=bucket_name, Key=file_key)\n",
    "df = pd.read_csv(obj['Body'])"
   ]
  }
 ],
 "metadata": {
  "kernelspec": {
   "display_name": "conda_python3",
   "language": "python",
   "name": "conda_python3"
  },
  "language_info": {
   "codemirror_mode": {
    "name": "ipython",
    "version": 3
   },
   "file_extension": ".py",
   "mimetype": "text/x-python",
   "name": "python",
   "nbconvert_exporter": "python",
   "pygments_lexer": "ipython3",
   "version": "3.10.15"
  }
 },
 "nbformat": 4,
 "nbformat_minor": 5
}
